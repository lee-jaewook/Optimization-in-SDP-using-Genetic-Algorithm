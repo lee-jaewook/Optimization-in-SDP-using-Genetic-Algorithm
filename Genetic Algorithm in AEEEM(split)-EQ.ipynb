{
 "cells": [
  {
   "cell_type": "markdown",
   "metadata": {},
   "source": [
    "# 1. Genetic Algorithm\n",
    "---"
   ]
  },
  {
   "cell_type": "code",
   "execution_count": 1,
   "metadata": {},
   "outputs": [
    {
     "data": {
      "text/plain": [
       "{'divide': 'warn', 'over': 'warn', 'under': 'ignore', 'invalid': 'warn'}"
      ]
     },
     "execution_count": 1,
     "metadata": {},
     "output_type": "execute_result"
    }
   ],
   "source": [
    "import numpy as np\n",
    "import pandas \n",
    "from sklearn.tree import DecisionTreeClassifier\n",
    "from sklearn.metrics import accuracy_score, roc_auc_score, matthews_corrcoef, confusion_matrix, classification_report, f1_score\n",
    "from imblearn.over_sampling import SMOTE\n",
    "from sklearn.model_selection import train_test_split\n",
    "from sklearn.preprocessing import StandardScaler\n",
    "from sklearn.preprocessing import MinMaxScaler\n",
    "from sklearn.model_selection import KFold\n",
    "from bisect import bisect_left\n",
    "from tqdm import notebook\n",
    "import math\n",
    "import random \n",
    "import matplotlib.pyplot as plt\n",
    "np.seterr(all=\"ignore\")"
   ]
  },
  {
   "cell_type": "code",
   "execution_count": 2,
   "metadata": {},
   "outputs": [],
   "source": [
    "def initilialize_poplulation(numberOfPopulation,objectData): # OK\n",
    "    criterion = np.empty([numberOfPopulation, 1], dtype=np.uint8)\n",
    "    splitter = np.empty([numberOfPopulation, 1], dtype=np.uint8)\n",
    "    maxDepth = np.empty([numberOfPopulation, 1], dtype=np.uint8)\n",
    "    minSamplesSplit = np.empty([numberOfPopulation, 1], dtype=np.uint8)\n",
    "    minSamplesLeaf = np.empty([numberOfPopulation, 1], dtype=np.uint8)\n",
    "    minWeightFractionLeaf = np.empty([numberOfPopulation, 1])\n",
    "    ccpAlpha = np.empty([numberOfPopulation, 1])\n",
    "    normalization = np.empty([numberOfPopulation, 1], dtype=np.uint8)\n",
    "    classWeight = np.empty([numberOfPopulation, 1])\n",
    "    featureSelection = np.empty([numberOfPopulation, objectData.shape[1]], dtype=np.uint8)\n",
    "    \n",
    "    print(\"<Initilialize Poplulation>\",end='')\n",
    "    for i in notebook.tqdm(range(numberOfPopulation)):\n",
    "        # print(i)\n",
    "        criterion[i] = int(random.randrange(0, 2, step=1))\n",
    "        splitter[i] = int(random.randrange(0, 2, step=1))\n",
    "        maxDepth[i] = int(random.randrange(2, 41, step=1))\n",
    "        minSamplesSplit[i] = int(random.randrange(2, 101, step=1))\n",
    "        minSamplesLeaf[i] = int(random.randrange(1, 201, step=1))\n",
    "        minWeightFractionLeaf[i] = round(random.uniform(0.001, 0.1), 3)\n",
    "        ccpAlpha[i] = round(random.uniform(0.00001, 0.004), 5)\n",
    "        normalization[i] = int(random.randrange(0, 6, step=1))\n",
    "        classWeight[i] = round(random.uniform(0.01, 1), 2)\n",
    "        for j in range(objectData.shape[1]):\n",
    "            featureSelection[i][j] = int(random.randrange(0, 2, step=1))\n",
    "#             print(\"<feature weight %s = %s>\"%(j,feature_weight[i][j]))\n",
    "#         print(\"<최초 %s번째 유전자 생성> Criterion: %s | Max Depth: %s | min samples split: %s | max leaf nodes: %s | randomstate: %s | true-false weight: %s/%s\"%(i+1,criterion[i],maxDepth[i],minSamplesSplit[i],maxLeafNodes[i],randomState[i],trueWeight[i],falseWeight[i]))\n",
    "    population = np.concatenate(\n",
    "        (criterion, splitter,maxDepth, minSamplesSplit, minSamplesLeaf, minWeightFractionLeaf, ccpAlpha, normalization,classWeight,featureSelection), axis=1)\n",
    "#     print(\"Population\")\n",
    "#     print(pandas.DataFrame(population))\n",
    "    return population"
   ]
  },
  {
   "cell_type": "code",
   "execution_count": 3,
   "metadata": {},
   "outputs": [],
   "source": [
    "def score(y_true,y_pred): #OK\n",
    "    arr = confusion_matrix(y_true,y_pred)\n",
    "    pd = arr[1][1]/(arr[1][1]+arr[1][0])\n",
    "    pf = arr[0][1]/(arr[0][0]+arr[0][1])\n",
    "    fallout = 1-pf\n",
    "    g_measure = 2*((pd*fallout)/(pd+fallout))\n",
    "    fi = (arr[0][1]+arr[1][1])/(arr[0][0]+arr[0][1]+arr[1][1]+arr[1][0])\n",
    "    FIR = (pd-fi)/pd\n",
    "    return pd,pf,g_measure,FIR"
   ]
  },
  {
   "cell_type": "code",
   "execution_count": 4,
   "metadata": {},
   "outputs": [],
   "source": [
    "def fitness_Gmeasure(y_true, y_pred): #OK\n",
    "        pd,pf,g_measure,FIR = score(y_true, y_pred)\n",
    "        fitness = round(g_measure, 4)\n",
    "        return fitness"
   ]
  },
  {
   "cell_type": "code",
   "execution_count": 5,
   "metadata": {},
   "outputs": [],
   "source": [
    "def criterion_convert(param): #OK\n",
    "        if param==0:\n",
    "            cr = 'gini'\n",
    "        else:\n",
    "            cr = 'entropy'\n",
    "        return cr\n",
    "    \n",
    "def splitter_convert(param): #OK\n",
    "        if param==0:\n",
    "            sc = 'best'\n",
    "        else:\n",
    "            sc = 'random'\n",
    "        return sc"
   ]
  },
  {
   "cell_type": "code",
   "execution_count": 6,
   "metadata": {},
   "outputs": [],
   "source": [
    "def Norm(X_train,X_test,norm):\n",
    "    if norm==0: # None\n",
    "        return X_train,X_test\n",
    "    elif norm==1:#MinMax (all)\n",
    "        scaler=MinMaxScaler()\n",
    "        scaler.fit(np.concatenate((X_train, X_test), axis=0))\n",
    "        X_train_norm=scaler.transform(X_train)\n",
    "        X_test_norm=scaler.transform(X_test)\n",
    "        return X_train_norm, X_test_norm\n",
    "    elif norm==2:#z-score (all)\n",
    "        scaler=StandardScaler()\n",
    "        scaler.fit(np.concatenate((X_train, X_test), axis=0))\n",
    "        X_train_norm=scaler.transform(X_train)\n",
    "        X_test_norm=scaler.transform(X_test)\n",
    "        return X_train_norm, X_test_norm\n",
    "    elif norm==3:#z-score (source distribution)\n",
    "        scaler=StandardScaler()\n",
    "        scaler.fit(X_train)\n",
    "        X_train_norm=scaler.transform(X_train)\n",
    "        X_test_norm=scaler.transform(X_test)\n",
    "        return X_train_norm, X_test_norm\n",
    "    elif norm==4: #z-score (target distribution)\n",
    "        scaler=StandardScaler()\n",
    "        scaler.fit(X_test)\n",
    "        X_train_norm=scaler.transform(X_train)\n",
    "        X_test_norm=scaler.transform(X_test)\n",
    "        return X_train_norm, X_test_norm\n",
    "    elif norm==5: #logarithmic filtering\n",
    "        X_train_norm=np.log10(np.where(X_train<0.001,0.001,X_train))\n",
    "        X_test_norm=np.log10(np.where(X_test<0.001,0.001,X_test))\n",
    "        return X_train_norm, X_test_norm"
   ]
  },
  {
   "cell_type": "code",
   "execution_count": 7,
   "metadata": {},
   "outputs": [],
   "source": [
    "def feature_selection(X_train,X_test,vector):\n",
    "    index=[]\n",
    "    col_index=0\n",
    "    assert len(vector)!=62\n",
    "    for i in vector:\n",
    "        if i==1:\n",
    "            index.append(col_index)\n",
    "        col_index+=1\n",
    "    if not index:\n",
    "        index.append(0)\n",
    "    X_train=X_train[:,index]\n",
    "    X_test=X_test[:,index]\n",
    "    return X_train, X_test"
   ]
  },
  {
   "cell_type": "code",
   "execution_count": 8,
   "metadata": {},
   "outputs": [],
   "source": [
    "def train_population(population, X_train,y_train,X_test,y_test):\n",
    "    g_measure = []\n",
    "    clf_hist=[]\n",
    "    for i in range(population.shape[0]):\n",
    "        param = { 'Criterion': population[i][0],\n",
    "                  'Splitter': population[i][1],\n",
    "                  'Max_Depth':population[i][2],\n",
    "                  'Min_Samples_Split':population[i][3],\n",
    "                  'Min_Samples_Leaf':population[i][4],\n",
    "                  'Min_Weight_Fraction_Leaf':population[i][5],\n",
    "                  'CCP_Alpha':population[i][6],\n",
    "                  'Normalization':population[i][7],\n",
    "                  'Class_Weight':population[i][8],\n",
    "                  'Feature_selection':population[i][9:]}\n",
    "\n",
    "        balance = {True:1,False:param['Class_Weight'] }\n",
    "        clf = DecisionTreeClassifier(criterion=criterion_convert(param['Criterion']),\n",
    "                                     splitter=splitter_convert(param['Splitter']),\n",
    "                                     max_depth=int(param['Max_Depth']),\n",
    "                                     min_samples_split=int(param['Min_Samples_Split']),\n",
    "                                     min_samples_leaf=int(param['Min_Samples_Leaf']),\n",
    "                                     min_weight_fraction_leaf=param['Min_Weight_Fraction_Leaf'],\n",
    "                                     ccp_alpha=param['CCP_Alpha'],\n",
    "                                     class_weight=balance)\n",
    "\n",
    "        #Feature Selection                                                         \n",
    "        X_tr,X_vali=feature_selection(X_train,X_test,param['Feature_selection'].astype(np.int64))\n",
    "\n",
    "        #Normalization\n",
    "        X_tr,X_vali=Norm(X_tr,X_vali,param['Normalization'])\n",
    "\n",
    "        clf.fit(X_tr, y_train)\n",
    "        preds = clf.predict(X_vali)\n",
    "        g_measure.append(fitness_Gmeasure(y_test, preds))\n",
    "        clf_hist.append(clf)\n",
    "    return g_measure,clf_hist"
   ]
  },
  {
   "cell_type": "code",
   "execution_count": 9,
   "metadata": {},
   "outputs": [],
   "source": [
    "def new_parents_selection(population, fitness, numParents): #OK\n",
    "    selectedParents = np.empty((numParents, population.shape[1]))  # create an array to store fittest parents\n",
    "    fitness_v=fitness\n",
    "    # find the top best performing parents\n",
    "    for parentId in range(numParents):\n",
    "        bestFitnessId = np.where(fitness_v == np.max(fitness_v))[0][0]\n",
    "        selectedParents[parentId, :] = population[bestFitnessId, :]\n",
    "        fitness_v[bestFitnessId] = -1  # set this value to negative, in case of F1-score, so this parent is not selected again\n",
    "    return selectedParents"
   ]
  },
  {
   "cell_type": "code",
   "execution_count": 10,
   "metadata": {},
   "outputs": [],
   "source": [
    "def crossover_uniform(parents, childrenSize):\n",
    "    crossoverPointIndex = np.arange(0, np.uint8(childrenSize[1]), 1, dtype=np.uint8)  # get all the index\n",
    "    crossoverPointIndex1 = np.random.randint(0, np.uint8(childrenSize[1]),\n",
    "                                             np.uint8(childrenSize[1] / 2))  # select half  of the indexes randomly\n",
    "    crossoverPointIndex2 = np.array(\n",
    "        list(set(crossoverPointIndex) - set(crossoverPointIndex1)))  # select leftover indexes\n",
    "\n",
    "    children = np.empty(childrenSize)\n",
    "\n",
    "\n",
    "    for i in range(childrenSize[0]):\n",
    "        # find parent 1 index\n",
    "        parent1_index = int(i % parents.shape[0])\n",
    "        # find parent 2 index\n",
    "        parent2_index = int((i + 1) % parents.shape[0])\n",
    "        # insert parameters based on random selected indexes in parent 1\n",
    "        children[i, crossoverPointIndex1] = parents[parent1_index, crossoverPointIndex1]\n",
    "        # insert parameters based on random selected indexes in parent 1\n",
    "#         print(crossoverPointIndex2,parent2_index)\n",
    "        children[i, crossoverPointIndex2] = parents[parent2_index, crossoverPointIndex2]\n",
    "    return children"
   ]
  },
  {
   "cell_type": "code",
   "execution_count": 11,
   "metadata": {},
   "outputs": [],
   "source": [
    "def mutation(crossover, numberOfParameters,mutation_rate):\n",
    "    # Define minimum and maximum values allowed for each parameter\n",
    "    minMaxValue = np.zeros((numberOfParameters, 2))\n",
    "    minMaxValue[0, :] = [0, 1]  \n",
    "    minMaxValue[1, :] = [0, 1]  \n",
    "    minMaxValue[2, :] = [2, 40]  \n",
    "    minMaxValue[3, :] = [2, 100]  \n",
    "    minMaxValue[4, :] = [1, 200]  \n",
    "    minMaxValue[5, :] = [0.001, 0.1]  \n",
    "    minMaxValue[6, :] = [0.00001, 0.004]  \n",
    "    minMaxValue[7, :] = [0, 5]  \n",
    "    minMaxValue[8, :] = [0.01, 1] \n",
    "    minMaxValue[9:, :] = [0, 1]  \n",
    "    \n",
    "    # Mutation changes a single gene in each offspring randomly.\n",
    "    mutationValue = 0\n",
    "\n",
    "    # indtroduce mutation by changing one parameter, and set to max or min if it goes out of range\n",
    "    for idx in range(crossover.shape[0]):\n",
    "        mutationidx = round(random.uniform(0.001, 1), 3)\n",
    "        if mutation_rate < mutationidx:\n",
    "            continue\n",
    "        for parameterSelect in range(crossover.shape[1]):            \n",
    "            # parameterSelect = np.random.randint(0, 7, 1)\n",
    "            # print(parameterSelect)\n",
    "            if parameterSelect == 0:  \n",
    "                mutationValue = round(np.random.uniform(-0.5, 0.5), 2)\n",
    "            if parameterSelect == 1:  \n",
    "                mutationValue = round(np.random.uniform(-0.5, 0.5), 2)\n",
    "            if parameterSelect == 2:  \n",
    "                mutationValue = np.random.randint(-20, 21, 1)\n",
    "            if parameterSelect == 3:  \n",
    "                mutationValue = np.random.randint(-50, 51, 1)\n",
    "            if parameterSelect == 4:  \n",
    "                mutationValue = np.random.randint(-100, 101, 1)\n",
    "            if parameterSelect == 5:  \n",
    "                mutationValue = round(np.random.uniform(-0.05, 0.05), 3)\n",
    "            if parameterSelect == 6:  \n",
    "                mutationValue = round(np.random.uniform(-0.002, 0.002), 5)\n",
    "            if parameterSelect == 7:  \n",
    "                mutationValue = np.random.randint(-2, 3, 1)\n",
    "            if parameterSelect == 8:\n",
    "                mutationValue = round(np.random.uniform(-0.5, 0.5), 2)\n",
    "            else :  \n",
    "                mutationValue = round(np.random.uniform(-0.5, 0.5), 2)\n",
    "            \n",
    "            if parameterSelect!=5 and parameterSelect!=6 and parameterSelect!=8:\n",
    "                new_value= int(crossover[idx, parameterSelect] + mutationValue)\n",
    "            else:\n",
    "                new_value=crossover[idx, parameterSelect] + mutationValue\n",
    "            crossover[idx, parameterSelect] = new_value            \n",
    "            if (crossover[idx, parameterSelect] > minMaxValue[parameterSelect, 1]):\n",
    "                crossover[idx, parameterSelect] = minMaxValue[parameterSelect, 1]\n",
    "            if (crossover[idx, parameterSelect] < minMaxValue[parameterSelect, 0]):\n",
    "                crossover[idx, parameterSelect] = minMaxValue[parameterSelect, 0]\n",
    "    return crossover"
   ]
  },
  {
   "cell_type": "code",
   "execution_count": 12,
   "metadata": {},
   "outputs": [],
   "source": [
    "def generation(X_train, y_train,X_test,y_test, mutation_rate):\n",
    "    #initailization    \n",
    "    mutationRate = mutation_rate\n",
    "    numberOfHyperParameters = 9\n",
    "    numberOfParameters = numberOfHyperParameters+X_train.shape[1]\n",
    "    numberOfPopulation = 100\n",
    "    numberOfParents = 20\n",
    "    numberOfGenerations = 1000\n",
    "    \n",
    "\n",
    "    # define the population size\n",
    "    populationSize = (numberOfPopulation, numberOfParameters)\n",
    "    # initialize the population with randomly generated parameters\n",
    "    population = initilialize_poplulation(numberOfPopulation,X_train)\n",
    "#     print(population.shape)\n",
    "    # define an array to store the fitness  hitory\n",
    "    fitnessHistory = np.empty([numberOfGenerations + 1, numberOfPopulation])\n",
    "    # define an array to store the value of each parameter for each parent and generation\n",
    "    populationHistory = np.empty([(numberOfGenerations + 1) * numberOfPopulation, numberOfParameters])\n",
    "    # insert the value of initial parameters in history\n",
    "\n",
    "    populationHistory[0:numberOfPopulation, :] = population\n",
    "    iteration_g=[]\n",
    "    \n",
    "    print(\"<Evolution>\")\n",
    "    for generation in notebook.tqdm(range(numberOfGenerations)):\n",
    "        #print(\" (%s / %s) 세대 개체 생성\" % (generation+1,numberOfGenerations))\n",
    "        fitnessValue,clf = train_population(population=population,\n",
    "                                            X_train=X_train,\n",
    "                                            y_train=y_train,\n",
    "                                            X_test=X_test,\n",
    "                                            y_test=y_test)\n",
    "\n",
    "        fitnessHistory[generation, :] = fitnessValue\n",
    "        # print('Max G-measure in the this iteration = {}'.format(np.max(fitnessHistory[generation, :])))\n",
    "        iteration_g.append((np.max(fitnessHistory[generation, :])))\n",
    "\n",
    "        parents = new_parents_selection(population=population, fitness=fitnessValue, numParents=numberOfParents)\n",
    "#         print(\"-------parents-------\")\n",
    "#         print(parents)\n",
    "        # prophets = geneticDicisionTree.new_parents_selection(population=population, fitness=fitnessValue, numParents=numberOfProphets)\n",
    "\n",
    "        children = crossover_uniform(parents=parents, childrenSize=((populationSize[0] - parents.shape[0]), numberOfParameters))\n",
    "\n",
    "        children_mutated = mutation(children, numberOfParameters, mutationRate)\n",
    "        \n",
    "        population[0:parents.shape[0], :] = parents #fittest parents\n",
    "        population[parents.shape[0]:, :] = children_mutated #children\n",
    "#         print(\"-------population-------\")\n",
    "#         print(population)\n",
    "        populationHistory[(generation + 1) * numberOfPopulation: (generation + 1) * numberOfPopulation + numberOfPopulation, :] = population\n",
    "\n",
    "    # Best solution from the final iteration\n",
    "    x=range(1,numberOfGenerations+1)\n",
    "    plt.plot(x,iteration_g)\n",
    "    plt.xlabel('Iteration')\n",
    "    plt.ylabel('G-measure')\n",
    "    \n",
    "    # plt.set_title('Train Set Distribu')\n",
    "    plt.ylim(0.5, 0.95)\n",
    "    plt.show()\n",
    "\n",
    "    fitness,clf = train_population(population=population, X_train=X_train, y_train=y_train,X_test=X_test,y_test=y_test)\n",
    "    fitnessHistory[generation + 1, :] = fitness\n",
    "    # index of the best solution\n",
    "    bestFitnessIndex = np.where(fitness == np.max(fitness))[0][0]\n",
    "    best_clf=clf[bestFitnessIndex]\n",
    "    best_gene = np.empty([numberOfParameters,1])\n",
    "    for i in range(numberOfParameters):\n",
    "        best_gene[i]=population[bestFitnessIndex][i]\n",
    "    \n",
    "#     print(\"----------------------------------------\")\n",
    "#     print(\"Best parameters are:\")\n",
    "#     if population[bestFitnessIndex][0]==0:\n",
    "#         c_r='gini'\n",
    "#     else:\n",
    "#         c_r='entropy'\n",
    "#     print('criterion', c_r)\n",
    "#     print('max_depth', population[bestFitnessIndex][1])\n",
    "#     print('min_samples_split', int(population[bestFitnessIndex][2]))\n",
    "#     print('max_leaf_nodes', population[bestFitnessIndex][3])\n",
    "#     print('random_state', population[bestFitnessIndex][4])\n",
    "#     print('class_weight', population[bestFitnessIndex][5], population[bestFitnessIndex][6])\n",
    "#     print(\"----------------------------------------\")\n",
    "    return fitness[bestFitnessIndex],best_gene,best_clf"
   ]
  },
  {
   "cell_type": "code",
   "execution_count": 13,
   "metadata": {},
   "outputs": [],
   "source": [
    "def weighted_GA_DT(X_train,X_test,y_train,y_test):\n",
    "    fitness, best_gene,best_clf = generation(X_train=X_train,\n",
    "                                             y_train=y_train,\n",
    "                                             X_test=X_test,\n",
    "                                             y_test=y_test,\n",
    "                                             mutation_rate=0.01)\n",
    "    X_train,X_test=feature_selection(X_train,\n",
    "                                     X_test,\n",
    "                                     best_gene[9:])\n",
    "    X_train,X_test=Norm(X_train,X_test,best_gene[7])\n",
    "    best_clf.fit(X_train,y_train)\n",
    "    preds = best_clf.predict(X_test)    \n",
    "    return preds"
   ]
  },
  {
   "cell_type": "markdown",
   "metadata": {},
   "source": [
    "# 2.Model Evaluation\n",
    "---"
   ]
  },
  {
   "cell_type": "code",
   "execution_count": 14,
   "metadata": {},
   "outputs": [],
   "source": [
    "df = pandas.read_csv('../../Dataset/AEEEM/EQ.csv')"
   ]
  },
  {
   "cell_type": "code",
   "execution_count": 15,
   "metadata": {},
   "outputs": [],
   "source": [
    "X = np.array(df.loc[:,'ck_oo_numberOfPrivateMethods':'LDHH_numberOfMethods'])\n",
    "y = np.array(df['class'])"
   ]
  },
  {
   "cell_type": "code",
   "execution_count": 16,
   "metadata": {
    "scrolled": true
   },
   "outputs": [],
   "source": [
    "from sklearn.model_selection import StratifiedKFold\n",
    "kf = StratifiedKFold(n_splits=10,shuffle=False)"
   ]
  },
  {
   "cell_type": "code",
   "execution_count": 17,
   "metadata": {},
   "outputs": [],
   "source": [
    "pd_score=[]\n",
    "pf_score=[]\n",
    "g_measure_score = []\n",
    "fir_score=[]\n",
    "best_fitness=[]\n",
    "accuracy=[]\n",
    "best_gene= np.empty([7, 1])\n",
    "conf_matrix_list_of_arrays = []\n",
    "class_report_list_of_arrays = []\n",
    "roc_auc_score_list_of_arrays = []\n",
    "mcc_list_of_arrays = []\n",
    "cm = None\n",
    "y_predicted_overall = None\n",
    "y_test_overall = None  \n",
    "i=0"
   ]
  },
  {
   "cell_type": "code",
   "execution_count": 18,
   "metadata": {},
   "outputs": [
    {
     "data": {
      "application/vnd.jupyter.widget-view+json": {
       "model_id": "1f81df00ab044a689a114ca03acffd16",
       "version_major": 2,
       "version_minor": 0
      },
      "text/plain": [
       "HBox(children=(FloatProgress(value=1.0, bar_style='info', layout=Layout(width='20px'), max=1.0), HTML(value=''…"
      ]
     },
     "metadata": {},
     "output_type": "display_data"
    },
    {
     "name": "stdout",
     "output_type": "stream",
     "text": [
      "<Initilialize Poplulation>"
     ]
    },
    {
     "data": {
      "application/vnd.jupyter.widget-view+json": {
       "model_id": "da35a79876c54337ba3a3334ea59ef85",
       "version_major": 2,
       "version_minor": 0
      },
      "text/plain": [
       "HBox(children=(FloatProgress(value=0.0), HTML(value='')))"
      ]
     },
     "metadata": {},
     "output_type": "display_data"
    },
    {
     "name": "stdout",
     "output_type": "stream",
     "text": [
      "\n",
      "<Evolution>\n"
     ]
    },
    {
     "data": {
      "application/vnd.jupyter.widget-view+json": {
       "model_id": "51114c0b069b48a1a3646b1f915dafaf",
       "version_major": 2,
       "version_minor": 0
      },
      "text/plain": [
       "HBox(children=(FloatProgress(value=0.0, max=1000.0), HTML(value='')))"
      ]
     },
     "metadata": {},
     "output_type": "display_data"
    },
    {
     "name": "stdout",
     "output_type": "stream",
     "text": [
      "\n"
     ]
    },
    {
     "data": {
      "image/png": "[encoded data removed]",
      "text/plain": [
       "<Figure size 432x288 with 1 Axes>"
      ]
     },
     "metadata": {
      "needs_background": "light"
     },
     "output_type": "display_data"
    },
    {
     "name": "stdout",
     "output_type": "stream",
     "text": [
      "--------------------------------------0 : Result--------------------------------------\n",
      "PD: 0.9230769230769231\n",
      "PF: 0.15\n",
      "G measure: 0.8850325379609545\n",
      "FIR: 0.5075757575757576\n",
      "              precision    recall  f1-score   support\n",
      "\n",
      "       False      0.944     0.850     0.895        20\n",
      "        True      0.800     0.923     0.857        13\n",
      "\n",
      "    accuracy                          0.879        33\n",
      "   macro avg      0.872     0.887     0.876        33\n",
      "weighted avg      0.888     0.879     0.880        33\n",
      "\n",
      "[[17  3]\n",
      " [ 1 12]]\n",
      "<Initilialize Poplulation>"
     ]
    },
    {
     "data": {
      "application/vnd.jupyter.widget-view+json": {
       "model_id": "a7678f249c7b4299a7ccaf480a1b933d",
       "version_major": 2,
       "version_minor": 0
      },
      "text/plain": [
       "HBox(children=(FloatProgress(value=0.0), HTML(value='')))"
      ]
     },
     "metadata": {},
     "output_type": "display_data"
    },
    {
     "name": "stdout",
     "output_type": "stream",
     "text": [
      "\n",
      "<Evolution>\n"
     ]
    },
    {
     "data": {
      "application/vnd.jupyter.widget-view+json": {
       "model_id": "731e9c6154ac4cdeaf1d8dbaa380417f",
       "version_major": 2,
       "version_minor": 0
      },
      "text/plain": [
       "HBox(children=(FloatProgress(value=0.0, max=1000.0), HTML(value='')))"
      ]
     },
     "metadata": {},
     "output_type": "display_data"
    },
    {
     "name": "stdout",
     "output_type": "stream",
     "text": [
      "\n"
     ]
    },
    {
     "data": {
      "image/png": "[encoded data removed]",
      "text/plain": [
       "<Figure size 432x288 with 1 Axes>"
      ]
     },
     "metadata": {
      "needs_background": "light"
     },
     "output_type": "display_data"
    },
    {
     "name": "stdout",
     "output_type": "stream",
     "text": [
      "--------------------------------------1 : Result--------------------------------------\n",
      "PD: 0.7692307692307693\n",
      "PF: 0.2\n",
      "G measure: 0.7843137254901961\n",
      "FIR: 0.4484848484848485\n",
      "              precision    recall  f1-score   support\n",
      "\n",
      "       False      0.842     0.800     0.821        20\n",
      "        True      0.714     0.769     0.741        13\n",
      "\n",
      "    accuracy                          0.788        33\n",
      "   macro avg      0.778     0.785     0.781        33\n",
      "weighted avg      0.792     0.788     0.789        33\n",
      "\n",
      "[[16  4]\n",
      " [ 3 10]]\n",
      "<Initilialize Poplulation>"
     ]
    },
    {
     "data": {
      "application/vnd.jupyter.widget-view+json": {
       "model_id": "404bf51182b3442fbcc350c28c995af4",
       "version_major": 2,
       "version_minor": 0
      },
      "text/plain": [
       "HBox(children=(FloatProgress(value=0.0), HTML(value='')))"
      ]
     },
     "metadata": {},
     "output_type": "display_data"
    },
    {
     "name": "stdout",
     "output_type": "stream",
     "text": [
      "\n",
      "<Evolution>\n"
     ]
    },
    {
     "data": {
      "application/vnd.jupyter.widget-view+json": {
       "model_id": "db4de153f5794ec1983a2dbe9ff7fe5f",
       "version_major": 2,
       "version_minor": 0
      },
      "text/plain": [
       "HBox(children=(FloatProgress(value=0.0, max=1000.0), HTML(value='')))"
      ]
     },
     "metadata": {},
     "output_type": "display_data"
    },
    {
     "name": "stdout",
     "output_type": "stream",
     "text": [
      "\n"
     ]
    },
    {
     "data": {
      "image/png": "[encoded data removed]",
      "text/plain": [
       "<Figure size 432x288 with 1 Axes>"
      ]
     },
     "metadata": {
      "needs_background": "light"
     },
     "output_type": "display_data"
    },
    {
     "name": "stdout",
     "output_type": "stream",
     "text": [
      "--------------------------------------2 : Result--------------------------------------\n",
      "PD: 0.6923076923076923\n",
      "PF: 0.3\n",
      "G measure: 0.6961325966850829\n",
      "FIR: 0.3434343434343434\n",
      "              precision    recall  f1-score   support\n",
      "\n",
      "       False      0.778     0.700     0.737        20\n",
      "        True      0.600     0.692     0.643        13\n",
      "\n",
      "    accuracy                          0.697        33\n",
      "   macro avg      0.689     0.696     0.690        33\n",
      "weighted avg      0.708     0.697     0.700        33\n",
      "\n",
      "[[14  6]\n",
      " [ 4  9]]\n",
      "<Initilialize Poplulation>"
     ]
    },
    {
     "data": {
      "application/vnd.jupyter.widget-view+json": {
       "model_id": "c1fb6468b7db4c57b777ce32962828cb",
       "version_major": 2,
       "version_minor": 0
      },
      "text/plain": [
       "HBox(children=(FloatProgress(value=0.0), HTML(value='')))"
      ]
     },
     "metadata": {},
     "output_type": "display_data"
    },
    {
     "name": "stdout",
     "output_type": "stream",
     "text": [
      "\n",
      "<Evolution>\n"
     ]
    },
    {
     "data": {
      "application/vnd.jupyter.widget-view+json": {
       "model_id": "17bc071492874c4aab741117a83af847",
       "version_major": 2,
       "version_minor": 0
      },
      "text/plain": [
       "HBox(children=(FloatProgress(value=0.0, max=1000.0), HTML(value='')))"
      ]
     },
     "metadata": {},
     "output_type": "display_data"
    },
    {
     "name": "stdout",
     "output_type": "stream",
     "text": [
      "\n"
     ]
    },
    {
     "data": {
      "image/png": "[encoded data removed]",
      "text/plain": [
       "<Figure size 432x288 with 1 Axes>"
      ]
     },
     "metadata": {
      "needs_background": "light"
     },
     "output_type": "display_data"
    },
    {
     "name": "stdout",
     "output_type": "stream",
     "text": [
      "--------------------------------------3 : Result--------------------------------------\n",
      "PD: 0.8461538461538461\n",
      "PF: 0.2\n",
      "G measure: 0.8224299065420562\n",
      "FIR: 0.4628099173553719\n",
      "              precision    recall  f1-score   support\n",
      "\n",
      "       False      0.889     0.800     0.842        20\n",
      "        True      0.733     0.846     0.786        13\n",
      "\n",
      "    accuracy                          0.818        33\n",
      "   macro avg      0.811     0.823     0.814        33\n",
      "weighted avg      0.828     0.818     0.820        33\n",
      "\n",
      "[[16  4]\n",
      " [ 2 11]]\n",
      "<Initilialize Poplulation>"
     ]
    },
    {
     "data": {
      "application/vnd.jupyter.widget-view+json": {
       "model_id": "774d2f1e27fb48eabdd82f9f20961b02",
       "version_major": 2,
       "version_minor": 0
      },
      "text/plain": [
       "HBox(children=(FloatProgress(value=0.0), HTML(value='')))"
      ]
     },
     "metadata": {},
     "output_type": "display_data"
    },
    {
     "name": "stdout",
     "output_type": "stream",
     "text": [
      "\n",
      "<Evolution>\n"
     ]
    },
    {
     "data": {
      "application/vnd.jupyter.widget-view+json": {
       "model_id": "1e763c28e02e4007a3645d167aaee73c",
       "version_major": 2,
       "version_minor": 0
      },
      "text/plain": [
       "HBox(children=(FloatProgress(value=0.0, max=1000.0), HTML(value='')))"
      ]
     },
     "metadata": {},
     "output_type": "display_data"
    },
    {
     "name": "stdout",
     "output_type": "stream",
     "text": [
      "\n"
     ]
    },
    {
     "data": {
      "image/png": "[encoded data removed]",
      "text/plain": [
       "<Figure size 432x288 with 1 Axes>"
      ]
     },
     "metadata": {
      "needs_background": "light"
     },
     "output_type": "display_data"
    },
    {
     "name": "stdout",
     "output_type": "stream",
     "text": [
      "--------------------------------------4 : Result--------------------------------------\n",
      "PD: 1.0\n",
      "PF: 0.21052631578947367\n",
      "G measure: 0.8823529411764706\n",
      "FIR: 0.46875\n",
      "              precision    recall  f1-score   support\n",
      "\n",
      "       False      1.000     0.789     0.882        19\n",
      "        True      0.765     1.000     0.867        13\n",
      "\n",
      "    accuracy                          0.875        32\n",
      "   macro avg      0.882     0.895     0.875        32\n",
      "weighted avg      0.904     0.875     0.876        32\n",
      "\n",
      "[[15  4]\n",
      " [ 0 13]]\n",
      "<Initilialize Poplulation>"
     ]
    },
    {
     "data": {
      "application/vnd.jupyter.widget-view+json": {
       "model_id": "76011828ea0842b5918d6f469ea5ead7",
       "version_major": 2,
       "version_minor": 0
      },
      "text/plain": [
       "HBox(children=(FloatProgress(value=0.0), HTML(value='')))"
      ]
     },
     "metadata": {},
     "output_type": "display_data"
    },
    {
     "name": "stdout",
     "output_type": "stream",
     "text": [
      "\n",
      "<Evolution>\n"
     ]
    },
    {
     "data": {
      "application/vnd.jupyter.widget-view+json": {
       "model_id": "e3bb8c29947849e88bc41051d2f8dcc9",
       "version_major": 2,
       "version_minor": 0
      },
      "text/plain": [
       "HBox(children=(FloatProgress(value=0.0, max=1000.0), HTML(value='')))"
      ]
     },
     "metadata": {},
     "output_type": "display_data"
    },
    {
     "name": "stdout",
     "output_type": "stream",
     "text": [
      "\n"
     ]
    },
    {
     "data": {
      "image/png": "[encoded data removed]",
      "text/plain": [
       "<Figure size 432x288 with 1 Axes>"
      ]
     },
     "metadata": {
      "needs_background": "light"
     },
     "output_type": "display_data"
    },
    {
     "name": "stdout",
     "output_type": "stream",
     "text": [
      "--------------------------------------5 : Result--------------------------------------\n",
      "PD: 0.9230769230769231\n",
      "PF: 0.21052631578947367\n",
      "G measure: 0.8510638297872342\n",
      "FIR: 0.45833333333333337\n",
      "              precision    recall  f1-score   support\n",
      "\n",
      "       False      0.938     0.789     0.857        19\n",
      "        True      0.750     0.923     0.828        13\n",
      "\n",
      "    accuracy                          0.844        32\n",
      "   macro avg      0.844     0.856     0.842        32\n",
      "weighted avg      0.861     0.844     0.845        32\n",
      "\n",
      "[[15  4]\n",
      " [ 1 12]]\n",
      "<Initilialize Poplulation>"
     ]
    },
    {
     "data": {
      "application/vnd.jupyter.widget-view+json": {
       "model_id": "39d9276a7eca4c90b8063d4284b73fa0",
       "version_major": 2,
       "version_minor": 0
      },
      "text/plain": [
       "HBox(children=(FloatProgress(value=0.0), HTML(value='')))"
      ]
     },
     "metadata": {},
     "output_type": "display_data"
    },
    {
     "name": "stdout",
     "output_type": "stream",
     "text": [
      "\n",
      "<Evolution>\n"
     ]
    },
    {
     "data": {
      "application/vnd.jupyter.widget-view+json": {
       "model_id": "ecc37e3fdcff488e811d635932bf6ef0",
       "version_major": 2,
       "version_minor": 0
      },
      "text/plain": [
       "HBox(children=(FloatProgress(value=0.0, max=1000.0), HTML(value='')))"
      ]
     },
     "metadata": {},
     "output_type": "display_data"
    },
    {
     "name": "stdout",
     "output_type": "stream",
     "text": [
      "\n"
     ]
    },
    {
     "data": {
      "image/png": "[encoded data removed]",
      "text/plain": [
       "<Figure size 432x288 with 1 Axes>"
      ]
     },
     "metadata": {
      "needs_background": "light"
     },
     "output_type": "display_data"
    },
    {
     "name": "stdout",
     "output_type": "stream",
     "text": [
      "--------------------------------------6 : Result--------------------------------------\n",
      "PD: 1.0\n",
      "PF: 0.3684210526315789\n",
      "G measure: 0.7741935483870968\n",
      "FIR: 0.375\n",
      "              precision    recall  f1-score   support\n",
      "\n",
      "       False      1.000     0.632     0.774        19\n",
      "        True      0.650     1.000     0.788        13\n",
      "\n",
      "    accuracy                          0.781        32\n",
      "   macro avg      0.825     0.816     0.781        32\n",
      "weighted avg      0.858     0.781     0.780        32\n",
      "\n",
      "[[12  7]\n",
      " [ 0 13]]\n",
      "<Initilialize Poplulation>"
     ]
    },
    {
     "data": {
      "application/vnd.jupyter.widget-view+json": {
       "model_id": "253f2c2df69747d2a0660aaec302ed68",
       "version_major": 2,
       "version_minor": 0
      },
      "text/plain": [
       "HBox(children=(FloatProgress(value=0.0), HTML(value='')))"
      ]
     },
     "metadata": {},
     "output_type": "display_data"
    },
    {
     "name": "stdout",
     "output_type": "stream",
     "text": [
      "\n",
      "<Evolution>\n"
     ]
    },
    {
     "data": {
      "application/vnd.jupyter.widget-view+json": {
       "model_id": "f6b3124d0e194d61914c627f6d133b6f",
       "version_major": 2,
       "version_minor": 0
      },
      "text/plain": [
       "HBox(children=(FloatProgress(value=0.0, max=1000.0), HTML(value='')))"
      ]
     },
     "metadata": {},
     "output_type": "display_data"
    },
    {
     "name": "stdout",
     "output_type": "stream",
     "text": [
      "\n"
     ]
    },
    {
     "data": {
      "image/png": "[encoded data removed]",
      "text/plain": [
       "<Figure size 432x288 with 1 Axes>"
      ]
     },
     "metadata": {
      "needs_background": "light"
     },
     "output_type": "display_data"
    },
    {
     "name": "stdout",
     "output_type": "stream",
     "text": [
      "--------------------------------------7 : Result--------------------------------------\n",
      "PD: 0.7692307692307693\n",
      "PF: 0.15789473684210525\n",
      "G measure: 0.8040201005025126\n",
      "FIR: 0.47187500000000004\n",
      "              precision    recall  f1-score   support\n",
      "\n",
      "       False      0.842     0.842     0.842        19\n",
      "        True      0.769     0.769     0.769        13\n",
      "\n",
      "    accuracy                          0.812        32\n",
      "   macro avg      0.806     0.806     0.806        32\n",
      "weighted avg      0.812     0.812     0.812        32\n",
      "\n",
      "[[16  3]\n",
      " [ 3 10]]\n",
      "<Initilialize Poplulation>"
     ]
    },
    {
     "data": {
      "application/vnd.jupyter.widget-view+json": {
       "model_id": "307f3709a51e4a3c8aaa27fc22fe48f6",
       "version_major": 2,
       "version_minor": 0
      },
      "text/plain": [
       "HBox(children=(FloatProgress(value=0.0), HTML(value='')))"
      ]
     },
     "metadata": {},
     "output_type": "display_data"
    },
    {
     "name": "stdout",
     "output_type": "stream",
     "text": [
      "\n",
      "<Evolution>\n"
     ]
    },
    {
     "data": {
      "application/vnd.jupyter.widget-view+json": {
       "model_id": "410caf53d9e44446a5200e73357919c4",
       "version_major": 2,
       "version_minor": 0
      },
      "text/plain": [
       "HBox(children=(FloatProgress(value=0.0, max=1000.0), HTML(value='')))"
      ]
     },
     "metadata": {},
     "output_type": "display_data"
    },
    {
     "name": "stdout",
     "output_type": "stream",
     "text": [
      "\n"
     ]
    },
    {
     "data": {
      "image/png": "[encoded data removed]",
      "text/plain": [
       "<Figure size 432x288 with 1 Axes>"
      ]
     },
     "metadata": {
      "needs_background": "light"
     },
     "output_type": "display_data"
    },
    {
     "name": "stdout",
     "output_type": "stream",
     "text": [
      "--------------------------------------8 : Result--------------------------------------\n",
      "PD: 0.8461538461538461\n",
      "PF: 0.2631578947368421\n",
      "G measure: 0.7877237851662403\n",
      "FIR: 0.40909090909090906\n",
      "              precision    recall  f1-score   support\n",
      "\n",
      "       False      0.875     0.737     0.800        19\n",
      "        True      0.688     0.846     0.759        13\n",
      "\n",
      "    accuracy                          0.781        32\n",
      "   macro avg      0.781     0.791     0.779        32\n",
      "weighted avg      0.799     0.781     0.783        32\n",
      "\n",
      "[[14  5]\n",
      " [ 2 11]]\n",
      "<Initilialize Poplulation>"
     ]
    },
    {
     "data": {
      "application/vnd.jupyter.widget-view+json": {
       "model_id": "06e6244a8fd8443494b3f09170346158",
       "version_major": 2,
       "version_minor": 0
      },
      "text/plain": [
       "HBox(children=(FloatProgress(value=0.0), HTML(value='')))"
      ]
     },
     "metadata": {},
     "output_type": "display_data"
    },
    {
     "name": "stdout",
     "output_type": "stream",
     "text": [
      "\n",
      "<Evolution>\n"
     ]
    },
    {
     "data": {
      "application/vnd.jupyter.widget-view+json": {
       "model_id": "6b1f7cf05b2b4c2a9425bedf04ba625f",
       "version_major": 2,
       "version_minor": 0
      },
      "text/plain": [
       "HBox(children=(FloatProgress(value=0.0, max=1000.0), HTML(value='')))"
      ]
     },
     "metadata": {},
     "output_type": "display_data"
    },
    {
     "name": "stdout",
     "output_type": "stream",
     "text": [
      "\n"
     ]
    },
    {
     "data": {
      "image/png": "[encoded data removed]",
      "text/plain": [
       "<Figure size 432x288 with 1 Axes>"
      ]
     },
     "metadata": {
      "needs_background": "light"
     },
     "output_type": "display_data"
    },
    {
     "name": "stdout",
     "output_type": "stream",
     "text": [
      "--------------------------------------9 : Result--------------------------------------\n",
      "PD: 1.0\n",
      "PF: 0.0\n",
      "G measure: 1.0\n",
      "FIR: 0.625\n",
      "              precision    recall  f1-score   support\n",
      "\n",
      "       False      1.000     1.000     1.000        20\n",
      "        True      1.000     1.000     1.000        12\n",
      "\n",
      "    accuracy                          1.000        32\n",
      "   macro avg      1.000     1.000     1.000        32\n",
      "weighted avg      1.000     1.000     1.000        32\n",
      "\n",
      "[[20  0]\n",
      " [ 0 12]]\n",
      "\n",
      "--------------------------------------average--------------------------------------\n",
      "PD : 0.876923076923077\n",
      "PF : 0.20605263157894735\n",
      "G_measure : 0.8287262971697844\n",
      "FIR : 0.4570354109274565\n"
     ]
    }
   ],
   "source": [
    "for train_index, test_index in notebook.tqdm(kf.split(X,y)): \n",
    "    X_train, X_test = X[train_index], X[test_index]\n",
    "    y_train, y_test = y[train_index], y[test_index]\n",
    "    \n",
    "    pred= weighted_GA_DT(X_train=X_train,\n",
    "                          X_test=X_test,\n",
    "                          y_train=y_train,\n",
    "                          y_test=y_test)\n",
    "    \n",
    "    pd,pf,g_measure,FIR = score(y_test, pred)  \n",
    "    \n",
    "    pd_score.append(pd)\n",
    "    pf_score.append(pf)\n",
    "    g_measure_score.append(g_measure)\n",
    "    fir_score.append(FIR)\n",
    "    \n",
    "    print('--------------------------------------{} : Result--------------------------------------'.format(i))\n",
    "    print('PD: {}\\nPF: {}\\nG measure: {}\\nFIR: {}'.format(pd,pf,g_measure,FIR))\n",
    "    i=i+1\n",
    "    \n",
    "    conf_matrix = confusion_matrix(y_test, pred)\n",
    "    conf_matrix_list_of_arrays.append(conf_matrix)\n",
    "    roc_auc = roc_auc_score(y_test, pred)\n",
    "    roc_auc_score_list_of_arrays.append(roc_auc)\n",
    "    mcc = matthews_corrcoef(y_test, pred)\n",
    "    mcc_list_of_arrays.append(mcc)\n",
    "    cv_cm = confusion_matrix(y_test, pred)\n",
    "    # sum the cv per fold\n",
    "    print(classification_report(y_test, pred, digits=3))\n",
    "    print(cv_cm)\n",
    "\n",
    "print('--------------------------------------average--------------------------------------')\n",
    "print(\"PD : {}\".format(sum(pd_score)/len(pd_score)))\n",
    "print(\"PF : {}\".format(sum(pf_score)/len(pf_score)))\n",
    "print(\"G_measure : {}\".format(sum(g_measure_score)/len(g_measure_score)))\n",
    "print(\"FIR : {}\".format(sum(fir_score)/len(fir_score)))"
   ]
  },
  {
   "cell_type": "code",
   "execution_count": null,
   "metadata": {},
   "outputs": [],
   "source": []
  }
 ],
 "metadata": {
  "kernelspec": {
   "display_name": "Python 3",
   "language": "python",
   "name": "python3"
  },
  "language_info": {
   "codemirror_mode": {
    "name": "ipython",
    "version": 3
   },
   "file_extension": ".py",
   "mimetype": "text/x-python",
   "name": "python",
   "nbconvert_exporter": "python",
   "pygments_lexer": "ipython3",
   "version": "3.7.7"
  }
 },
 "nbformat": 4,
 "nbformat_minor": 4
}
